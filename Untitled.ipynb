{
 "cells": [
  {
   "cell_type": "code",
   "execution_count": 1,
   "metadata": {},
   "outputs": [
    {
     "name": "stdout",
     "output_type": "stream",
     "text": [
      "Counterclockwise\n"
     ]
    }
   ],
   "source": [
    ">>> import numpy as np\n",
    ">>> from sphericalpolygon import create_polygon\n",
    ">>> boundary = np.loadtxt('NnrMRVL_PltBndsLatLon/an',skiprows=1) # boundary for Antarctica Plate\n",
    ">>> polygon = create_polygon(boundary)\n",
    ">>> print(polygon.arrangement)"
   ]
  },
  {
   "cell_type": "code",
   "execution_count": 2,
   "metadata": {},
   "outputs": [
    {
     "name": "stdout",
     "output_type": "stream",
     "text": [
      "1.4326235943514618\n"
     ]
    }
   ],
   "source": [
    ">>> print(polygon.area())"
   ]
  },
  {
   "cell_type": "code",
   "execution_count": 3,
   "metadata": {},
   "outputs": [
    {
     "name": "stdout",
     "output_type": "stream",
     "text": [
      "58280032.6500551  km2\n"
     ]
    }
   ],
   "source": [
    "print(polygon.area(6378.137), ' km2')"
   ]
  },
  {
   "cell_type": "code",
   "execution_count": 4,
   "metadata": {},
   "outputs": [
    {
     "name": "stdout",
     "output_type": "stream",
     "text": [
      "4720682644.654464  Gt\n"
     ]
    }
   ],
   "source": [
    "print(polygon.area(6378.137,81), ' Gt')"
   ]
  },
  {
   "cell_type": "code",
   "execution_count": 5,
   "metadata": {},
   "outputs": [
    {
     "name": "stdout",
     "output_type": "stream",
     "text": [
      "6.322665894174974\n",
      "40326.82927827548  km\n"
     ]
    }
   ],
   "source": [
    ">>> print(polygon.perimeter())\n",
    ">>> print(polygon.perimeter(6378.137), ' km')"
   ]
  },
  {
   "cell_type": "code",
   "execution_count": 6,
   "metadata": {},
   "outputs": [
    {
     "name": "stdout",
     "output_type": "stream",
     "text": [
      "[ 1.32669154  1.17471081  0.36384484 -0.05095381  0.05246122  0.08126929]\n"
     ]
    }
   ],
   "source": [
    "print(polygon.inertia())"
   ]
  },
  {
   "cell_type": "code",
   "execution_count": 7,
   "metadata": {},
   "outputs": [
    {
     "name": "stdout",
     "output_type": "stream",
     "text": [
      "[177839.25501653 157466.66651681  48772.37278617  -6830.21381414\n",
      "   7032.2786668   10893.9188177 ]  Gt·Gm2\n"
     ]
    }
   ],
   "source": [
    "print(polygon.inertia(6378.127,81)/1e12, ' Gt·Gm2')"
   ]
  },
  {
   "cell_type": "code",
   "execution_count": 8,
   "metadata": {},
   "outputs": [
    {
     "name": "stdout",
     "output_type": "stream",
     "text": [
      "False\n"
     ]
    }
   ],
   "source": [
    "print(polygon.contains_points([75,152]))"
   ]
  },
  {
   "cell_type": "code",
   "execution_count": null,
   "metadata": {},
   "outputs": [],
   "source": []
  }
 ],
 "metadata": {
  "kernelspec": {
   "display_name": "Python 3",
   "language": "python",
   "name": "python3"
  },
  "language_info": {
   "codemirror_mode": {
    "name": "ipython",
    "version": 3
   },
   "file_extension": ".py",
   "mimetype": "text/x-python",
   "name": "python",
   "nbconvert_exporter": "python",
   "pygments_lexer": "ipython3",
   "version": "3.7.6"
  }
 },
 "nbformat": 4,
 "nbformat_minor": 4
}
